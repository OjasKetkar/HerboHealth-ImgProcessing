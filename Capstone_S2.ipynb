{
  "cells": [
    {
      "cell_type": "code",
      "execution_count": null,
      "id": "b46ba326",
      "metadata": {
        "id": "b46ba326"
      },
      "outputs": [],
      "source": [
        "from google.colab import drive\n",
        "drive.mount('/content/drive')\n"
      ]
    },
    {
      "cell_type": "code",
      "execution_count": null,
      "id": "ff671ea4",
      "metadata": {
        "id": "ff671ea4"
      },
      "outputs": [],
      "source": [
        "cd /content/drive/MyDrive/Capstone-S2/Dataset"
      ]
    },
    {
      "cell_type": "code",
      "execution_count": null,
      "id": "55b24ab1",
      "metadata": {
        "id": "55b24ab1",
        "colab": {
          "base_uri": "https://localhost:8080/"
        },
        "outputId": "d1475d93-bd1f-4acf-93dd-4c037217c8d4"
      },
      "outputs": [
        {
          "output_type": "stream",
          "name": "stdout",
          "text": [
            "TensorFlow 1.x selected.\n"
          ]
        }
      ],
      "source": [
        "%tensorflow_version 1.x\n",
        "import tensorflow\n",
        "print(tensorflow.__version__)\n",
        "\n"
      ]
    },
    {
      "cell_type": "code",
      "execution_count": null,
      "id": "5428e0d1",
      "metadata": {
        "id": "5428e0d1"
      },
      "outputs": [],
      "source": [
        "# Data Preprocessing"
      ]
    },
    {
      "cell_type": "code",
      "execution_count": null,
      "id": "6e47292e",
      "metadata": {
        "id": "6e47292e",
        "colab": {
          "base_uri": "https://localhost:8080/"
        },
        "outputId": "ed3ed6c4-46b2-4a99-f622-e2dd25532150"
      },
      "outputs": [
        {
          "output_type": "stream",
          "name": "stdout",
          "text": [
            "{'Pomegranate': 0, 'Rasna': 1, 'Tulsi': 2, 'Sandalwood': 3, 'Rose_apple': 4, 'Mint': 5, 'Parijata': 6, 'Oleander': 7, 'Neem': 8, 'Peepal': 9, 'Karanda': 10, 'Mango': 11, 'Jasmine': 12, 'Jamun': 13, 'Lemon': 14, 'Indian_Mustard': 15, 'Jackfruit': 16, 'Hibiscus': 17, 'Guava': 18, 'Drumstick': 19, 'Basale': 20, 'Curry': 21, 'Betel': 22}\n",
            "['Pomegranate', 'Rasna', 'Tulsi', 'Sandalwood', 'Rose_apple', 'Mint', 'Parijata', 'Oleander', 'Neem', 'Peepal', 'Karanda', 'Mango', 'Jasmine', 'Jamun', 'Lemon', 'Indian_Mustard', 'Jackfruit', 'Hibiscus', 'Guava', 'Drumstick', 'Basale', 'Curry', 'Betel']\n",
            "[0, 1, 2, 3, 4, 5, 6, 7, 8, 9, 10, 11, 12, 13, 14, 15, 16, 17, 18, 19, 20, 21, 22]\n"
          ]
        }
      ],
      "source": [
        "import cv2,os\n",
        "data_path='/content/drive/MyDrive/Capstone-S2/Dataset/train'\n",
        "categories=os.listdir(data_path)\n",
        "labels=[i for i in range(len(categories))]\n",
        "\n",
        "label_dict=dict(zip(categories,labels)) #empty dictionary\n",
        "print(label_dict)\n",
        "print(categories)\n",
        "print(labels)"
      ]
    },
    {
      "cell_type": "code",
      "execution_count": null,
      "id": "fc7ce9e7",
      "metadata": {
        "id": "fc7ce9e7"
      },
      "outputs": [],
      "source": [
        "img_size=100\n",
        "data=[]\n",
        "target=[]\n",
        "\n",
        "for category in categories:\n",
        "    folder_path=os.path.join(data_path,category)\n",
        "    img_names=os.listdir(folder_path)\n",
        "        \n",
        "    for img_name in img_names:\n",
        "        img_path=os.path.join(folder_path,img_name)\n",
        "        img=cv2.imread(img_path)\n",
        "\n",
        "        try:  \n",
        "            resized=cv2.resize(img,(img_size,img_size))\n",
        "            #resizing the image  into 100x100, since we need a fixed common size for all the images in the dataset\n",
        "            data.append(resized)\n",
        "            target.append(label_dict[category])\n",
        "            #appending the image and the label(categorized) into the list (dataset)\n",
        "        except Exception as e:\n",
        "            print('Exception:',e)\n",
        "            #if any exception rasied, the exception will be printed here. And pass to the next image"
      ]
    },
    {
      "cell_type": "code",
      "execution_count": null,
      "id": "34f2ebcb",
      "metadata": {
        "id": "34f2ebcb"
      },
      "outputs": [],
      "source": [
        "# Recale and assign catagorical lables"
      ]
    },
    {
      "cell_type": "code",
      "execution_count": null,
      "id": "d1a62fe5",
      "metadata": {
        "id": "d1a62fe5"
      },
      "outputs": [],
      "source": [
        "import numpy as np\n",
        "data=np.array(data)/255.0\n",
        "data=np.reshape(data,(data.shape[0],img_size,img_size,3))\n",
        "target=np.array(target)\n",
        "from keras.utils import np_utils\n",
        "new_target=np_utils.to_categorical(target)"
      ]
    },
    {
      "cell_type": "code",
      "execution_count": null,
      "id": "08fc3f31",
      "metadata": {
        "id": "08fc3f31",
        "colab": {
          "base_uri": "https://localhost:8080/"
        },
        "outputId": "83b0d60c-45b1-48a0-c96a-4cf8de974403"
      },
      "outputs": [
        {
          "output_type": "execute_result",
          "data": {
            "text/plain": [
              "(1416, 23)"
            ]
          },
          "metadata": {},
          "execution_count": 12
        }
      ],
      "source": [
        "new_target.shape"
      ]
    },
    {
      "cell_type": "code",
      "execution_count": null,
      "id": "9d2f64b6",
      "metadata": {
        "id": "9d2f64b6"
      },
      "outputs": [],
      "source": [
        "# CNN Model"
      ]
    },
    {
      "cell_type": "code",
      "execution_count": null,
      "id": "a86b2094",
      "metadata": {
        "id": "a86b2094",
        "colab": {
          "base_uri": "https://localhost:8080/"
        },
        "outputId": "33fa535a-20d9-4b03-ec01-ce374c59465a"
      },
      "outputs": [
        {
          "output_type": "execute_result",
          "data": {
            "text/plain": [
              "(1416, 100, 100, 3)"
            ]
          },
          "metadata": {},
          "execution_count": 14
        }
      ],
      "source": [
        "data.shape"
      ]
    },
    {
      "cell_type": "code",
      "execution_count": null,
      "id": "af598d2d",
      "metadata": {
        "id": "af598d2d",
        "colab": {
          "base_uri": "https://localhost:8080/"
        },
        "outputId": "ed522f01-3826-4ba7-d2fc-649b75aa0bea"
      },
      "outputs": [
        {
          "output_type": "execute_result",
          "data": {
            "text/plain": [
              "(100, 100, 3)"
            ]
          },
          "metadata": {},
          "execution_count": 15
        }
      ],
      "source": [
        "data.shape[1:]"
      ]
    },
    {
      "cell_type": "code",
      "execution_count": null,
      "id": "e55d0c82",
      "metadata": {
        "id": "e55d0c82",
        "colab": {
          "base_uri": "https://localhost:8080/"
        },
        "outputId": "790a2632-6b6c-49d6-cb84-2226d7f5066e"
      },
      "outputs": [
        {
          "output_type": "stream",
          "name": "stdout",
          "text": [
            "WARNING:tensorflow:From /tensorflow-1.15.2/python3.7/tensorflow_core/python/ops/resource_variable_ops.py:1630: calling BaseResourceVariable.__init__ (from tensorflow.python.ops.resource_variable_ops) with constraint is deprecated and will be removed in a future version.\n",
            "Instructions for updating:\n",
            "If using Keras pass *_constraint arguments to layers.\n",
            "WARNING:tensorflow:From /tensorflow-1.15.2/python3.7/keras/backend/tensorflow_backend.py:4070: The name tf.nn.max_pool is deprecated. Please use tf.nn.max_pool2d instead.\n",
            "\n"
          ]
        }
      ],
      "source": [
        "from keras.models import Sequential\n",
        "from keras.layers import Dense,Activation,Flatten,Dropout\n",
        "from keras.layers import Conv2D,MaxPooling2D\n",
        "from keras.callbacks import ModelCheckpoint\n",
        "\n",
        "model=Sequential()\n",
        "\n",
        "model.add(Conv2D(200,(3,3),input_shape=data.shape[1:]))\n",
        "model.add(Activation('relu'))\n",
        "model.add(MaxPooling2D(pool_size=(2,2)))\n",
        "#The first CNN layer followed by Relu and MaxPooling layers\n",
        "\n",
        "model.add(Conv2D(100,(3,3)))\n",
        "model.add(Activation('relu'))\n",
        "model.add(MaxPooling2D(pool_size=(2,2)))\n",
        "#The second convolution layer followed by Relu and MaxPooling layers\n",
        "\n",
        "model.add(Flatten())\n",
        "model.add(Dropout(0.5))\n",
        "#Flatten layer to stack the output convolutions from second convolution layer\n",
        "model.add(Dense(50,activation='relu'))\n",
        "#Dense layer of 64 neurons\n",
        "model.add(Dense(2,activation='softmax'))\n",
        "#The Final layer with two outputs for two categories\n",
        "\n",
        "model.compile(loss='categorical_crossentropy',optimizer='adam',metrics=['accuracy'])\n",
        "# WARNING:tensorflow:From /tensorflow-1.15.2/python3.7/tensorflow_core/python/ops/resource_variable_ops.py:1630: calling BaseResourceVariable.__init__ (from tensorflow.python.ops.resource_variable_ops) with constraint is deprecated and will be removed in a future version.\n",
        "# Instructions for updating:\n",
        "# If using Keras pass *_constraint arguments to layers.\n",
        "# WARNING:tensorflow:From /tensorflow-1.15.2/python3.7/keras/backend/tensorflow_backend.py:4070: The name tf.nn.max_pool is deprecated. Please use tf.nn.max_pool2d instead.\n"
      ]
    },
    {
      "cell_type": "code",
      "execution_count": null,
      "id": "aaa4bcf2",
      "metadata": {
        "id": "aaa4bcf2",
        "colab": {
          "base_uri": "https://localhost:8080/"
        },
        "outputId": "0b430672-a212-4872-fa4b-abf9f55b223c"
      },
      "outputs": [
        {
          "output_type": "stream",
          "name": "stdout",
          "text": [
            "Model: \"sequential_1\"\n",
            "_________________________________________________________________\n",
            "Layer (type)                 Output Shape              Param #   \n",
            "=================================================================\n",
            "conv2d_1 (Conv2D)            (None, 98, 98, 200)       5600      \n",
            "_________________________________________________________________\n",
            "activation_1 (Activation)    (None, 98, 98, 200)       0         \n",
            "_________________________________________________________________\n",
            "max_pooling2d_1 (MaxPooling2 (None, 49, 49, 200)       0         \n",
            "_________________________________________________________________\n",
            "conv2d_2 (Conv2D)            (None, 47, 47, 100)       180100    \n",
            "_________________________________________________________________\n",
            "activation_2 (Activation)    (None, 47, 47, 100)       0         \n",
            "_________________________________________________________________\n",
            "max_pooling2d_2 (MaxPooling2 (None, 23, 23, 100)       0         \n",
            "_________________________________________________________________\n",
            "flatten_1 (Flatten)          (None, 52900)             0         \n",
            "_________________________________________________________________\n",
            "dropout_1 (Dropout)          (None, 52900)             0         \n",
            "_________________________________________________________________\n",
            "dense_1 (Dense)              (None, 50)                2645050   \n",
            "_________________________________________________________________\n",
            "dense_2 (Dense)              (None, 2)                 102       \n",
            "=================================================================\n",
            "Total params: 2,830,852\n",
            "Trainable params: 2,830,852\n",
            "Non-trainable params: 0\n",
            "_________________________________________________________________\n"
          ]
        }
      ],
      "source": [
        "model.summary()"
      ]
    },
    {
      "cell_type": "code",
      "execution_count": null,
      "id": "6c77ae69",
      "metadata": {
        "id": "6c77ae69"
      },
      "outputs": [],
      "source": [
        "# Splittiong data into traning and testing"
      ]
    },
    {
      "cell_type": "code",
      "execution_count": null,
      "id": "0a9904c9",
      "metadata": {
        "id": "0a9904c9"
      },
      "outputs": [],
      "source": [
        "-\n",
        "train_data,test_data,train_target,test_target=train_test_split(data,new_target,test_size=0.1)"
      ]
    },
    {
      "cell_type": "code",
      "execution_count": null,
      "id": "fded426a",
      "metadata": {
        "id": "fded426a",
        "outputId": "acca8eb6-3b11-4ef8-c991-5de5da05e658",
        "colab": {
          "base_uri": "https://localhost:8080/"
        }
      },
      "outputs": [
        {
          "output_type": "execute_result",
          "data": {
            "text/plain": [
              "(1274, 100, 100, 3)"
            ]
          },
          "metadata": {},
          "execution_count": 20
        }
      ],
      "source": [
        "train_data.shape"
      ]
    },
    {
      "cell_type": "code",
      "execution_count": null,
      "id": "865f8fc9",
      "metadata": {
        "id": "865f8fc9",
        "outputId": "9d4ef26e-730c-450d-b794-970e795dc359",
        "colab": {
          "base_uri": "https://localhost:8080/"
        }
      },
      "outputs": [
        {
          "output_type": "execute_result",
          "data": {
            "text/plain": [
              "(1274, 23)"
            ]
          },
          "metadata": {},
          "execution_count": 21
        }
      ],
      "source": [
        "train_target.shape"
      ]
    },
    {
      "cell_type": "code",
      "execution_count": null,
      "id": "eb6b2b08",
      "metadata": {
        "id": "eb6b2b08",
        "outputId": "20b8b0fd-a866-4a00-db05-9d0b522028c4",
        "colab": {
          "base_uri": "https://localhost:8080/",
          "height": 328
        }
      },
      "outputs": [
        {
          "output_type": "error",
          "ename": "ValueError",
          "evalue": "ignored",
          "traceback": [
            "\u001b[0;31m---------------------------------------------------------------------------\u001b[0m",
            "\u001b[0;31mValueError\u001b[0m                                Traceback (most recent call last)",
            "\u001b[0;32m<ipython-input-30-5fe502ab3f50>\u001b[0m in \u001b[0;36m<module>\u001b[0;34m()\u001b[0m\n\u001b[1;32m      1\u001b[0m \u001b[0;31m#checkpoint = ModelCheckpoint('model-{epoch:03d}.model',monitor='val_loss',verbose=0,save_best_only=True,mode='auto')\u001b[0m\u001b[0;34m\u001b[0m\u001b[0;34m\u001b[0m\u001b[0;34m\u001b[0m\u001b[0m\n\u001b[0;32m----> 2\u001b[0;31m \u001b[0mhistory\u001b[0m\u001b[0;34m=\u001b[0m\u001b[0mmodel\u001b[0m\u001b[0;34m.\u001b[0m\u001b[0mfit\u001b[0m\u001b[0;34m(\u001b[0m\u001b[0mtrain_data\u001b[0m\u001b[0;34m,\u001b[0m\u001b[0mtrain_target\u001b[0m\u001b[0;34m,\u001b[0m\u001b[0mepochs\u001b[0m\u001b[0;34m=\u001b[0m\u001b[0;36m200\u001b[0m\u001b[0;34m,\u001b[0m\u001b[0mvalidation_split\u001b[0m\u001b[0;34m=\u001b[0m\u001b[0;36m0.2\u001b[0m\u001b[0;34m)\u001b[0m\u001b[0;34m\u001b[0m\u001b[0;34m\u001b[0m\u001b[0m\n\u001b[0m",
            "\u001b[0;32m/tensorflow-1.15.2/python3.7/keras/engine/training.py\u001b[0m in \u001b[0;36mfit\u001b[0;34m(self, x, y, batch_size, epochs, verbose, callbacks, validation_split, validation_data, shuffle, class_weight, sample_weight, initial_epoch, steps_per_epoch, validation_steps, validation_freq, max_queue_size, workers, use_multiprocessing, **kwargs)\u001b[0m\n\u001b[1;32m   1152\u001b[0m             \u001b[0msample_weight\u001b[0m\u001b[0;34m=\u001b[0m\u001b[0msample_weight\u001b[0m\u001b[0;34m,\u001b[0m\u001b[0;34m\u001b[0m\u001b[0;34m\u001b[0m\u001b[0m\n\u001b[1;32m   1153\u001b[0m             \u001b[0mclass_weight\u001b[0m\u001b[0;34m=\u001b[0m\u001b[0mclass_weight\u001b[0m\u001b[0;34m,\u001b[0m\u001b[0;34m\u001b[0m\u001b[0;34m\u001b[0m\u001b[0m\n\u001b[0;32m-> 1154\u001b[0;31m             batch_size=batch_size)\n\u001b[0m\u001b[1;32m   1155\u001b[0m \u001b[0;34m\u001b[0m\u001b[0m\n\u001b[1;32m   1156\u001b[0m         \u001b[0;31m# Prepare validation data.\u001b[0m\u001b[0;34m\u001b[0m\u001b[0;34m\u001b[0m\u001b[0;34m\u001b[0m\u001b[0m\n",
            "\u001b[0;32m/tensorflow-1.15.2/python3.7/keras/engine/training.py\u001b[0m in \u001b[0;36m_standardize_user_data\u001b[0;34m(self, x, y, sample_weight, class_weight, check_array_lengths, batch_size)\u001b[0m\n\u001b[1;32m    619\u001b[0m                 \u001b[0mfeed_output_shapes\u001b[0m\u001b[0;34m,\u001b[0m\u001b[0;34m\u001b[0m\u001b[0;34m\u001b[0m\u001b[0m\n\u001b[1;32m    620\u001b[0m                 \u001b[0mcheck_batch_axis\u001b[0m\u001b[0;34m=\u001b[0m\u001b[0;32mFalse\u001b[0m\u001b[0;34m,\u001b[0m  \u001b[0;31m# Don't enforce the batch size.\u001b[0m\u001b[0;34m\u001b[0m\u001b[0;34m\u001b[0m\u001b[0m\n\u001b[0;32m--> 621\u001b[0;31m                 exception_prefix='target')\n\u001b[0m\u001b[1;32m    622\u001b[0m \u001b[0;34m\u001b[0m\u001b[0m\n\u001b[1;32m    623\u001b[0m             \u001b[0;31m# Generate sample-wise weight values given the `sample_weight` and\u001b[0m\u001b[0;34m\u001b[0m\u001b[0;34m\u001b[0m\u001b[0;34m\u001b[0m\u001b[0m\n",
            "\u001b[0;32m/tensorflow-1.15.2/python3.7/keras/engine/training_utils.py\u001b[0m in \u001b[0;36mstandardize_input_data\u001b[0;34m(data, names, shapes, check_batch_axis, exception_prefix)\u001b[0m\n\u001b[1;32m    143\u001b[0m                             \u001b[0;34m': expected '\u001b[0m \u001b[0;34m+\u001b[0m \u001b[0mnames\u001b[0m\u001b[0;34m[\u001b[0m\u001b[0mi\u001b[0m\u001b[0;34m]\u001b[0m \u001b[0;34m+\u001b[0m \u001b[0;34m' to have shape '\u001b[0m \u001b[0;34m+\u001b[0m\u001b[0;34m\u001b[0m\u001b[0;34m\u001b[0m\u001b[0m\n\u001b[1;32m    144\u001b[0m                             \u001b[0mstr\u001b[0m\u001b[0;34m(\u001b[0m\u001b[0mshape\u001b[0m\u001b[0;34m)\u001b[0m \u001b[0;34m+\u001b[0m \u001b[0;34m' but got array with shape '\u001b[0m \u001b[0;34m+\u001b[0m\u001b[0;34m\u001b[0m\u001b[0;34m\u001b[0m\u001b[0m\n\u001b[0;32m--> 145\u001b[0;31m                             str(data_shape))\n\u001b[0m\u001b[1;32m    146\u001b[0m     \u001b[0;32mreturn\u001b[0m \u001b[0mdata\u001b[0m\u001b[0;34m\u001b[0m\u001b[0;34m\u001b[0m\u001b[0m\n\u001b[1;32m    147\u001b[0m \u001b[0;34m\u001b[0m\u001b[0m\n",
            "\u001b[0;31mValueError\u001b[0m: Error when checking target: expected dense_2 to have shape (2,) but got array with shape (23,)"
          ]
        }
      ],
      "source": [
        "#checkpoint = ModelCheckpoint('model-{epoch:03d}.model',monitor='val_loss',verbose=0,save_best_only=True,mode='auto')\n",
        "history=model.fit(train_data,train_target,epochs=200,validation_split=0.2)"
      ]
    },
    {
      "cell_type": "code",
      "execution_count": null,
      "id": "e29e973b",
      "metadata": {
        "id": "e29e973b",
        "outputId": "4c6111b9-c78a-434d-f5fe-0ffce23a6053",
        "colab": {
          "base_uri": "https://localhost:8080/",
          "height": 235
        }
      },
      "outputs": [
        {
          "output_type": "error",
          "ename": "NameError",
          "evalue": "ignored",
          "traceback": [
            "\u001b[0;31m---------------------------------------------------------------------------\u001b[0m",
            "\u001b[0;31mNameError\u001b[0m                                 Traceback (most recent call last)",
            "\u001b[0;32m<ipython-input-27-25d5363ae3f7>\u001b[0m in \u001b[0;36m<module>\u001b[0;34m()\u001b[0m\n\u001b[0;32m----> 1\u001b[0;31m \u001b[0;32mif\u001b[0m \u001b[0mresult\u001b[0m\u001b[0;34m[\u001b[0m\u001b[0;36m0\u001b[0m\u001b[0;34m]\u001b[0m\u001b[0;34m[\u001b[0m\u001b[0;36m0\u001b[0m\u001b[0;34m]\u001b[0m\u001b[0;34m==\u001b[0m\u001b[0;36m1\u001b[0m\u001b[0;34m:\u001b[0m\u001b[0;34m\u001b[0m\u001b[0;34m\u001b[0m\u001b[0m\n\u001b[0m\u001b[1;32m      2\u001b[0m     \u001b[0mprint\u001b[0m\u001b[0;34m(\u001b[0m\u001b[0;34m'Basale'\u001b[0m\u001b[0;34m)\u001b[0m\u001b[0;34m\u001b[0m\u001b[0;34m\u001b[0m\u001b[0m\n\u001b[1;32m      3\u001b[0m \u001b[0;32melif\u001b[0m \u001b[0mresult\u001b[0m\u001b[0;34m[\u001b[0m\u001b[0;36m0\u001b[0m\u001b[0;34m]\u001b[0m\u001b[0;34m[\u001b[0m\u001b[0;36m1\u001b[0m\u001b[0;34m]\u001b[0m\u001b[0;34m==\u001b[0m\u001b[0;36m1\u001b[0m\u001b[0;34m:\u001b[0m\u001b[0;34m\u001b[0m\u001b[0;34m\u001b[0m\u001b[0m\n\u001b[1;32m      4\u001b[0m     \u001b[0mprint\u001b[0m\u001b[0;34m(\u001b[0m\u001b[0;34m'Betel'\u001b[0m\u001b[0;34m)\u001b[0m\u001b[0;34m\u001b[0m\u001b[0;34m\u001b[0m\u001b[0m\n\u001b[1;32m      5\u001b[0m \u001b[0;32melif\u001b[0m \u001b[0mresult\u001b[0m\u001b[0;34m[\u001b[0m\u001b[0;36m0\u001b[0m\u001b[0;34m]\u001b[0m\u001b[0;34m[\u001b[0m\u001b[0;36m2\u001b[0m\u001b[0;34m]\u001b[0m\u001b[0;34m==\u001b[0m\u001b[0;36m1\u001b[0m\u001b[0;34m:\u001b[0m\u001b[0;34m\u001b[0m\u001b[0;34m\u001b[0m\u001b[0m\n",
            "\u001b[0;31mNameError\u001b[0m: name 'result' is not defined"
          ]
        }
      ],
      "source": [
        "if result[0][0]==1:\n",
        "    print('Basale')\n",
        "elif result[0][1]==1:\n",
        "    print('Betel')\n",
        "elif result[0][2]==1:\n",
        "    print('Curry')\n",
        "elif result[0][3]==1:\n",
        "    print('Drumstick')\n",
        "elif result[0][4]==1:\n",
        "    print('Guava')\n",
        "elif result[0][5]==1:\n",
        "    print('Hibiscus')\n",
        "elif result[0][6]==1:\n",
        "    print('Indian_Mustard')\n",
        "elif result[0][7]==1:\n",
        "    print('Jackfruit')\n",
        "elif result[0][8]==1:\n",
        "    print('Jamun')\n",
        "elif result[0][9]==1:\n",
        "    print('Jasmine')\n",
        "elif result[0][10]==1:\n",
        "    print('Karanda')\n",
        "elif result[0][11]==1:\n",
        "    print('Lemon')\n",
        "elif result[0][12]==1:\n",
        "    print('Mango')\n",
        "elif result[0][13]==1:\n",
        "    print('Mint')\n",
        "elif result[0][14]==1:\n",
        "    print('Neem')\n",
        "elif result[0][15]==1:\n",
        "    print('Oleander')\n",
        "elif result[0][16]==1:\n",
        "    print('Parijata')\n",
        "elif result[0][17]==1:\n",
        "    print('Peepal')\n",
        "elif result[0][18]==1:\n",
        "    print('Pomegranate')\n",
        "elif result[0][19]==1:\n",
        "    print('Rasna')\n",
        "elif result[0][20]==1:\n",
        "    print('Rose Apple')\n",
        "elif result[0][21]==1:\n",
        "    print('Sandalwood')\n",
        "elif result[0][22]==1:\n",
        "    print('Tulsi')     "
      ]
    },
    {
      "cell_type": "code",
      "execution_count": null,
      "id": "9da40fe4",
      "metadata": {
        "id": "9da40fe4"
      },
      "outputs": [],
      "source": [
        "model.save('model.h5')"
      ]
    },
    {
      "cell_type": "code",
      "execution_count": null,
      "id": "13047c48",
      "metadata": {
        "id": "13047c48"
      },
      "outputs": [],
      "source": [
        "from matplotlib import pyplot as plt"
      ]
    },
    {
      "cell_type": "code",
      "source": [
        "# plot the training loss and accuracy\n",
        "N = 200\n",
        "plt.style.use(\"ggplot\")\n",
        "plt.figure()\n",
        "plt.plot(np.arange(0, N), history.history[\"loss\"], label=\"train_loss\")\n",
        "plt.plot(np.arange(0, N), history.history[\"val_loss\"], label=\"val_loss\")\n",
        "plt.plot(np.arange(0, N), history.history[\"accuracy\"], label=\"train_acc\")\n",
        "plt.plot(np.arange(0, N), history.history[\"val_accuracy\"], label=\"val_acc\")\n",
        "plt.title(\"Training Loss and Accuracy\")\n",
        "plt.xlabel(\"Epoch #\")\n",
        "plt.ylabel(\"Loss/Accuracy\")\n",
        "plt.legend(loc=\"center right\")\n",
        "plt.savefig(\"CNN_Model\")"
      ],
      "metadata": {
        "id": "0NjKlFz6ReDw"
      },
      "id": "0NjKlFz6ReDw",
      "execution_count": null,
      "outputs": []
    }
  ],
  "metadata": {
    "kernelspec": {
      "display_name": "Python 3 (ipykernel)",
      "language": "python",
      "name": "python3"
    },
    "language_info": {
      "codemirror_mode": {
        "name": "ipython",
        "version": 3
      },
      "file_extension": ".py",
      "mimetype": "text/x-python",
      "name": "python",
      "nbconvert_exporter": "python",
      "pygments_lexer": "ipython3",
      "version": "3.9.12"
    },
    "colab": {
      "name": "Capstone-S2.ipynb",
      "provenance": []
    }
  },
  "nbformat": 4,
  "nbformat_minor": 5
}